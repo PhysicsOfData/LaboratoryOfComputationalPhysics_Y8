{
 "cells": [
  {
   "cell_type": "code",
   "execution_count": 7,
   "id": "7eb55498-66cd-42e6-ab1a-5ca4815a4b19",
   "metadata": {},
   "outputs": [
    {
     "name": "stdout",
     "output_type": "stream",
     "text": [
      "Updating 57e7831..7ec3ac8\n",
      "Fast-forward\n",
      " 02_NumberRepresentation.ipynb   | 726 ++++++++++++++++++++++++++++++++++++++++\n",
      " 02ex_NumberRepresentation.ipynb | 119 +++++++\n",
      " 2 files changed, 845 insertions(+)\n",
      " create mode 100644 02_NumberRepresentation.ipynb\n",
      " create mode 100644 02ex_NumberRepresentation.ipynb\n"
     ]
    },
    {
     "name": "stderr",
     "output_type": "stream",
     "text": [
      "From https://github.com/melissanespeque/LaboratoryOfComputationalPhysics_Y8\n",
      "   57e7831..7ec3ac8  main       -> origin/main\n"
     ]
    }
   ],
   "source": [
    "!git pull"
   ]
  }
 ],
 "metadata": {
  "kernelspec": {
   "display_name": "Python [conda env:base] *",
   "language": "python",
   "name": "conda-base-py"
  },
  "language_info": {
   "codemirror_mode": {
    "name": "ipython",
    "version": 3
   },
   "file_extension": ".py",
   "mimetype": "text/x-python",
   "name": "python",
   "nbconvert_exporter": "python",
   "pygments_lexer": "ipython3",
   "version": "3.11.7"
  }
 },
 "nbformat": 4,
 "nbformat_minor": 5
}
